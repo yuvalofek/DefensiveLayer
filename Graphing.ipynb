{
  "nbformat": 4,
  "nbformat_minor": 0,
  "metadata": {
    "colab": {
      "name": "Graphing.ipynb",
      "provenance": [],
      "collapsed_sections": [],
      "toc_visible": true
    },
    "kernelspec": {
      "name": "python3",
      "display_name": "Python 3"
    }
  },
  "cells": [
    {
      "cell_type": "code",
      "metadata": {
        "id": "W90mSKZCXe0z"
      },
      "source": [
        "import numpy as np\n",
        "import matplotlib.pyplot as plt\n",
        "import matplotlib.lines as mlines\n",
        "from matplotlib.patches import Patch"
      ],
      "execution_count": null,
      "outputs": []
    },
    {
      "cell_type": "markdown",
      "metadata": {
        "id": "e4vQkmDNdTg2"
      },
      "source": [
        "# FGSM"
      ]
    },
    {
      "cell_type": "markdown",
      "metadata": {
        "id": "E1FEF9xCdZwJ"
      },
      "source": [
        "## Single Layer Insertion"
      ]
    },
    {
      "cell_type": "code",
      "metadata": {
        "id": "qKiwcJjZf9lb"
      },
      "source": [
        "from google.colab import drive\n",
        "drive.mount('/content/drive')"
      ],
      "execution_count": null,
      "outputs": []
    },
    {
      "cell_type": "code",
      "metadata": {
        "id": "MCYG-kasYbda"
      },
      "source": [
        "# Load accuracies from results file\n",
        "eps_cnt = 5\n",
        "layer_cnt = 21\n",
        "accs_by_eps = {}\n",
        "with open('/content/drive/MyDrive/DeepLearning/DeepLearningFinal/results/FGSM_All_Layer_Accuracy.txt','r') as file1:\n",
        "  for jj in range(0,eps_cnt):\n",
        "    # iterate over each epsilon\n",
        "    accs = []\n",
        "    layer_acc = {}\n",
        "    for ii in range(0,layer_cnt+2):\n",
        "      line = file1.readline()\n",
        "      if ii == 0:\n",
        "        eps = float(line.split('_')[1])\n",
        "      else:\n",
        "        layer_num = int(line.split(' ')[0])\n",
        "        acc = (float(line.split(' ')[1]))\n",
        "        layer_acc[layer_num] = acc\n",
        "    accs_by_eps[eps] = layer_acc"
      ],
      "execution_count": null,
      "outputs": []
    },
    {
      "cell_type": "code",
      "metadata": {
        "id": "Z19aN_R2ZM2m"
      },
      "source": [
        "out_dir = \"/content/drive/MyDrive/DeepLearning/DeepLearningFinal/results/Final Plots/FGSM_singlelayer/\"\n",
        "x = np.arange(1,22)\n",
        "for eps,layer_accs in accs_by_eps.items():\n",
        "  baseline = layer_accs[0]\n",
        "  # remove baseline\n",
        "  layer_accs = {key:layer_accs[key] for key in range(1,22)}\n",
        "  accs = []\n",
        "  for layer_num, acc in layer_accs.items():\n",
        "    accs.append(acc)\n",
        "  plt.figure(figsize = (8,4))\n",
        "    \n",
        "  plt.plot(x, accs, color = 'k')\n",
        "  xmin, xmx = plt.xlim()\n",
        "  plt.hlines(baseline, xmin, xmx, linestyles='dashed')\n",
        "  plt.xlabel('Depth of Layer Insertion')\n",
        "  plt.ylabel('Test Accuracy')\n",
        "  if eps == 0.0:\n",
        "    plt.title(\"Test Accuracy on Original Images with One Denoising Layer Inserted\")\n",
        "  else:\n",
        "    plt.title(\"Test Accuracy on FGSM Images (eps = {}) with One Denoising Layer Inserted\". format(eps))\n",
        "  plt.xlim(1, 21)\n",
        "  plt.xticks(x)\n",
        "  plt.legend(['Modified Model', 'Baseline Model'], loc = 'lower right')\n",
        "  plt.grid()\n",
        "  plt.savefig(out_dir+'FGSM_singlelayer_eps_{}.eps'.format(eps))\n",
        "  plt.show()"
      ],
      "execution_count": null,
      "outputs": []
    },
    {
      "cell_type": "markdown",
      "metadata": {
        "id": "5UdajRVjdryb"
      },
      "source": [
        "## Multi Layer Insertion"
      ]
    },
    {
      "cell_type": "code",
      "metadata": {
        "id": "ZBCtRcZ6dpBN"
      },
      "source": [
        "# Load accuracies from results file\n",
        "eps_cnt = 5\n",
        "layer_cnt = 5\n",
        "accs_by_eps = {}\n",
        "with open('/content/drive/MyDrive/DeepLearningFinal/results/FGSM_multilayer_accs.txt','r') as file1:\n",
        "  for jj in range(0,eps_cnt):\n",
        "    # iterate over each epsilon\n",
        "    accs = []\n",
        "    layer_acc = {}\n",
        "    for ii in range(0,layer_cnt+2):\n",
        "      line = file1.readline()\n",
        "      if ii == 0:\n",
        "        eps = float(line.split('_')[1])\n",
        "      else:\n",
        "        layer_num = int(line.split(' ')[0])\n",
        "        acc = (float(line.split(' ')[1]))\n",
        "        layer_acc[layer_num] = acc\n",
        "    accs_by_eps[eps] = layer_acc"
      ],
      "execution_count": null,
      "outputs": []
    },
    {
      "cell_type": "code",
      "metadata": {
        "id": "8Fw6IKUyeT5Q"
      },
      "source": [
        "out_dir = \"/content/drive/MyDrive/DeepLearningFinal/results/Final Plots/FGSM_multilayer/\"\n",
        "for eps,layer_accs in accs_by_eps.items():\n",
        "  baseline = layer_accs[0]\n",
        "  # remove baseline\n",
        "  layer_accs = {key:layer_accs[key] for key in range(1,6)}\n",
        "  accs = []\n",
        "  for layer_num, acc in layer_accs.items():\n",
        "    accs.append(acc)\n",
        "  plt.figure(figsize = (8,4))\n",
        "    \n",
        "  plt.plot(np.arange(1,len(accs)+1), accs, color = 'k')\n",
        "  xmin, xmx = plt.xlim()\n",
        "  plt.hlines(baseline, xmin, xmx, linestyles='dashed')\n",
        "  plt.xlabel('Number of Denoising Layers Inserted')\n",
        "  plt.ylabel('Test Accuracy')\n",
        "  if eps == 0.0:\n",
        "    plt.title(\"Test Accuracy on Original Images with Increasing Number of Denoising Layers Inserted\")\n",
        "  else:\n",
        "    plt.title(\"Test Accuracy on FGSM Images (eps = {}) with Increasing Number of Denoising Layers Inserted\". format(eps))\n",
        "  plt.xlim(1, 5)\n",
        "  plt.xticks(np.arange(1,len(accs)+1))\n",
        "  plt.legend(['Modified Model', 'Baseline Model'], loc = 'upper right')\n",
        "  # plt.grid()\n",
        "  plt.savefig(out_dir+'FGSM_multilayer_eps_{}.eps'.format(eps))\n",
        "  plt.show()"
      ],
      "execution_count": null,
      "outputs": []
    },
    {
      "cell_type": "markdown",
      "metadata": {
        "id": "hZ_niCNguDML"
      },
      "source": [
        "## Denoising Comparison"
      ]
    },
    {
      "cell_type": "code",
      "metadata": {
        "id": "lT0bS7kbuHVu"
      },
      "source": [
        "# load accuracies from files\n",
        "eps_cnt = 5\n",
        "layer_cnt = 5\n",
        "den_random_accs_by_eps = {}\n",
        "with open('/content/drive/MyDrive/DeepLearningFinal/results/denoise_random_accs.txt','r') as file1:\n",
        "  for jj in range(0,eps_cnt):\n",
        "    # iterate over each epsilon\n",
        "    accs = []\n",
        "    layer_acc = {}\n",
        "    for ii in range(0,layer_cnt+2):\n",
        "      line = file1.readline()\n",
        "      if ii == 0:\n",
        "        eps = float(line.split('_')[1])\n",
        "      else:\n",
        "        layer_num = int(line.split(' ')[0])\n",
        "        acc = (float(line.split(' ')[1]))\n",
        "        layer_acc[layer_num] = acc\n",
        "    den_random_accs_by_eps[eps] = layer_acc\n",
        "\n",
        "den_all_accs_by_eps = {}\n",
        "with open('/content/drive/MyDrive/DeepLearningFinal/results/denoise_all_accs.txt','r') as file1:\n",
        "  for jj in range(0,eps_cnt):\n",
        "    # iterate over each epsilon\n",
        "    accs = []\n",
        "    layer_acc = {}\n",
        "    for ii in range(0,layer_cnt+2):\n",
        "      line = file1.readline()\n",
        "      if ii == 0:\n",
        "        eps = float(line.split('_')[1])\n",
        "      else:\n",
        "        layer_num = int(line.split(' ')[0])\n",
        "        acc = (float(line.split(' ')[1]))\n",
        "        layer_acc[layer_num] = acc\n",
        "    den_all_accs_by_eps[eps] = layer_acc"
      ],
      "execution_count": null,
      "outputs": []
    },
    {
      "cell_type": "code",
      "metadata": {
        "id": "sVAHqtk5uzdw"
      },
      "source": [
        "out_dir = \"/content/drive/MyDrive/DeepLearningFinal/results/Final Plots/\"\n",
        "plt.figure(figsize = (8,4))\n",
        "x = [1,4,7,12,17]\n",
        "eps_colors = {'0.0':'#1f77b4','0.1':'#ff7f0e','0.3':'#2ca02c','0.5':'#d62728','1.0':'#9467bd'}\n",
        "for eps,layer_accs in den_random_accs_by_eps.items():\n",
        "    baseline = layer_accs[0]\n",
        "    # remove baseline\n",
        "    layer_accs = {key:layer_accs[key] for key in range(1,6)}\n",
        "    accs = []\n",
        "    if eps == 0.0 or eps == 0.5 or eps == 1.0:\n",
        "      for layer_num, acc in layer_accs.items():\n",
        "        accs.append(acc)\n",
        "      plt.plot(x,accs,linestyle='--',color=eps_colors[str(eps)]) \n",
        "\n",
        "for eps,layer_accs in den_all_accs_by_eps.items():\n",
        "    # remove baseline\n",
        "    layer_accs = {key:layer_accs[key] for key in range(1,6)}\n",
        "    accs = []\n",
        "    if eps ==0.0 or eps == 0.5 or eps == 1.0:\n",
        "      for layer_num, acc in layer_accs.items():\n",
        "        accs.append(acc)\n",
        "      plt.plot(x,accs,color=eps_colors[str(eps)]) \n",
        "\n",
        "xmin, xmx = plt.xlim()\n",
        "plt.hlines(baseline, xmin, xmx, linestyles=':',color='grey')\n",
        "plt.xlabel('Depth of Layer Insertion')\n",
        "plt.ylabel('Test Accuracy')\n",
        "plt.title(\"Denoising Method Comparison on FGSM Images With Varying Epsilon\". format(eps))\n",
        "plt.xlim(1, 17)\n",
        "plt.xticks(x)\n",
        "line1 = Patch([],[],color='#1f77b4',label='No Attack')\n",
        "line4 = Patch([],[],color='#d62728',label='FGSM eps = 0.5')\n",
        "line5 = Patch([],[],color='#9467bd',label='FGSM eps = 1.0')\n",
        "line6 = mlines.Line2D([],[],color='black',linestyle='--',label='Repeated Random Denoising')\n",
        "line7 = mlines.Line2D([],[],color='black',label='Random Denoising Sweep')\n",
        "line8 = mlines.Line2D([],[],color='grey',label='Baseline',linestyle=':')\n",
        "\n",
        "plt.legend(handles=[line8,line1,line4,line5,line6,line7],loc='lower right')\n",
        "plt.savefig(out_dir+'denoise_comparison.eps'.format(eps))\n",
        "plt.show()"
      ],
      "execution_count": null,
      "outputs": []
    },
    {
      "cell_type": "markdown",
      "metadata": {
        "id": "X6YitD5uf59n"
      },
      "source": [
        "# DeepFool"
      ]
    },
    {
      "cell_type": "markdown",
      "metadata": {
        "id": "fHFc5bwOf8z4"
      },
      "source": [
        "## Single Layer Insertion"
      ]
    },
    {
      "cell_type": "code",
      "metadata": {
        "id": "h_abXRU_gQ96"
      },
      "source": [
        "# Load accuracies from results file\n",
        "layer_cnt = 21\n",
        "with open('/content/drive/MyDrive/DeepLearningFinal/results/DeepFool_all_layer_acc.txt','r') as file1:\n",
        "  layer_accs = {}\n",
        "  for ii in range(0,layer_cnt+1):\n",
        "    line = file1.readline()\n",
        "    layer_num = int(line.split(' ')[0])\n",
        "    acc = (float(line.split(' ')[1]))\n",
        "    layer_accs[layer_num] = acc"
      ],
      "execution_count": null,
      "outputs": []
    },
    {
      "cell_type": "code",
      "metadata": {
        "id": "WkQm_NZagtwF"
      },
      "source": [
        "out_dir = \"/content/drive/MyDrive/DeepLearningFinal/results/Final Plots/DeepFool/\"\n",
        "x = np.arange(1,22)\n",
        "baseline = layer_accs[0]\n",
        "layer_accs = {key:layer_accs[key] for key in range(1,22)}\n",
        "accs = []\n",
        "for layer_num, acc in layer_accs.items():\n",
        "  accs.append(acc)\n",
        "plt.figure(figsize = (8,4))\n",
        "  \n",
        "plt.plot(x, accs, color = 'k')\n",
        "xmin, xmx = plt.xlim()\n",
        "plt.hlines(baseline, xmin, xmx, linestyles='dashed')\n",
        "plt.xlabel('Depth of Layer Insertion')\n",
        "plt.ylabel('Test Accuracy')\n",
        "plt.title(\"Test Accuracy on DeepFool Images with One Denoising Layer Inserted\")\n",
        "plt.xlim(1,21)\n",
        "plt.xticks(x)\n",
        "plt.legend(['Modified Model', 'Baseline Model'], loc = 'lower right')\n",
        "plt.grid()\n",
        "plt.savefig(out_dir+'DeepFool_singlelayer.eps'.format(eps))\n",
        "plt.show()"
      ],
      "execution_count": null,
      "outputs": []
    },
    {
      "cell_type": "markdown",
      "metadata": {
        "id": "Wzh0JnFnjhR9"
      },
      "source": [
        "## Multi Layer Insertion"
      ]
    },
    {
      "cell_type": "code",
      "metadata": {
        "id": "MvdSNivmjlXJ"
      },
      "source": [
        "layer_cnt = 5\n",
        "with open('/content/drive/MyDrive/DeepLearningFinal/results/DeepFool_multilayer_accs.txt','r') as file1:\n",
        "  layer_accs = {}\n",
        "  for ii in range(0,layer_cnt+1):\n",
        "    line = file1.readline()\n",
        "    layer_num = int(line.split(' ')[0])\n",
        "    acc = (float(line.split(' ')[1]))\n",
        "    layer_accs[layer_num] = acc\n",
        "baseline = layer_accs[0]\n",
        "layer_accs = {key:layer_accs[key] for key in range(1,6)}"
      ],
      "execution_count": null,
      "outputs": []
    },
    {
      "cell_type": "code",
      "metadata": {
        "id": "sYhNK2gUkaCd"
      },
      "source": [
        "out_dir = \"/content/drive/MyDrive/DeepLearningFinal/results/Final Plots/DeepFool/\"\n",
        "x = np.arange(1,6)\n",
        "accs = []\n",
        "for layer_num, acc in layer_accs.items():\n",
        "  accs.append(acc)\n",
        "plt.figure(figsize = (8,4))\n",
        "  \n",
        "plt.plot(x, accs, color = 'k')\n",
        "xmin, xmx = plt.xlim()\n",
        "plt.hlines(baseline, xmin, xmx, linestyles='dashed')\n",
        "plt.xlabel('Number of Denoising Layers Inserted')\n",
        "plt.ylabel('Test Accuracy')\n",
        "plt.title(\"Test Accuracy on DeepFool Images with Increasing Number of Denoising Layers Inserted\")\n",
        "plt.xlim(1,5)\n",
        "plt.xticks(np.arange(1,len(accs)+1))\n",
        "plt.legend(['Modified Model', 'Baseline Model'], loc = 'upper right')\n",
        "plt.savefig(out_dir+'DeepFool_multilayer.eps'.format(eps))\n",
        "plt.show()"
      ],
      "execution_count": null,
      "outputs": []
    },
    {
      "cell_type": "markdown",
      "metadata": {
        "id": "RlFH5J8tlqZq"
      },
      "source": [
        "# Combined"
      ]
    },
    {
      "cell_type": "markdown",
      "metadata": {
        "id": "KQGNilzwlt20"
      },
      "source": [
        "## Single Layer Insertion"
      ]
    },
    {
      "cell_type": "code",
      "metadata": {
        "id": "kUCiI4xOlxT-"
      },
      "source": [
        "# Load accuracies from results file\n",
        "# first FGSM\n",
        "eps_cnt = 5\n",
        "layer_cnt = 21\n",
        "f_accs_by_eps = {}\n",
        "with open('/content/drive/MyDrive/DeepLearning/DeepLearningFinal/results/FGSM_All_Layer_Accuracy.txt','r') as file1:\n",
        "  for jj in range(0,eps_cnt):\n",
        "    # iterate over each epsilon\n",
        "    accs = []\n",
        "    layer_acc = {}\n",
        "    for ii in range(0,layer_cnt+2):\n",
        "      line = file1.readline()\n",
        "      if ii == 0:\n",
        "        eps = float(line.split('_')[1])\n",
        "      else:\n",
        "        layer_num = int(line.split(' ')[0])\n",
        "        acc = (float(line.split(' ')[1]))\n",
        "        layer_acc[layer_num] = acc\n",
        "    f_accs_by_eps[eps] = layer_acc\n",
        "\n",
        "# now DeepFool\n",
        "with open('/content/drive/MyDrive/DeepLearning/DeepLearningFinal/results/DeepFool_all_layer_acc.txt','r') as file1:\n",
        "  d_layer_accs = {}\n",
        "  for ii in range(0,layer_cnt+1):\n",
        "    line = file1.readline()\n",
        "    layer_num = int(line.split(' ')[0])\n",
        "    acc = (float(line.split(' ')[1]))\n",
        "    d_layer_accs[layer_num] = acc"
      ],
      "execution_count": null,
      "outputs": []
    },
    {
      "cell_type": "code",
      "metadata": {
        "id": "NizkMCjPmFie"
      },
      "source": [
        "out_dir = \"/content/drive/MyDrive/DeepLearning/DeepLearningFinal/results/Final Plots/\"\n",
        "plt.figure(figsize = (8,4))\n",
        "x = np.arange(1,22)\n",
        "for eps,layer_accs in f_accs_by_eps.items():\n",
        "  baseline = layer_accs[0]\n",
        "  # remove baseline\n",
        "  layer_accs = {key:layer_accs[key] for key in range(1,22)}\n",
        "  accs = []\n",
        "  for layer_num, acc in layer_accs.items():\n",
        "    accs.append(acc/baseline)\n",
        "  plt.plot(x, accs)\n",
        "\n",
        "baseline = d_layer_accs[0]\n",
        "d_layer_accs = {key:d_layer_accs[key] for key in range(1,22)}\n",
        "accs = []\n",
        "for layer_num, acc in d_layer_accs.items():\n",
        "  accs.append(acc/baseline)\n",
        "plt.plot(x, accs)\n",
        "  \n",
        "xmin, xmx = plt.xlim()\n",
        "plt.xlabel('Depth of Layer Insertion')\n",
        "plt.ylabel('Test Accuracy/Baseline Accuracy')\n",
        "plt.title(\"Test Accuracy/Baseline Accuracy with One Denoising Layer Inserted\")\n",
        "plt.xlim(1,21)\n",
        "plt.xticks(np.arange(1,22))\n",
        "plt.legend(['No Attack', 'FGSM eps=0.1','FGSM eps=0.3','FGSM eps=0.5',\\\n",
        "            'FGSM eps=1.0','DeepFool'], loc = 'lower right')\n",
        "plt.grid()\n",
        "plt.savefig(out_dir+'Combined_singlelayer.eps'.format(eps))\n",
        "plt.show()"
      ],
      "execution_count": null,
      "outputs": []
    },
    {
      "cell_type": "markdown",
      "metadata": {
        "id": "i9xa3Pshgbm1"
      },
      "source": [
        "##Relative to No Attack"
      ]
    },
    {
      "cell_type": "code",
      "metadata": {
        "id": "PgSsbCdHgbJP"
      },
      "source": [
        "plt.figure(figsize = (8,4))\r\n",
        "x = np.arange(2,22)\r\n",
        "for eps,layer_accs in f_accs_by_eps.items():\r\n",
        "  baseline = layer_accs[0]\r\n",
        "  no_att = layer_accs[1]\r\n",
        "  # remove baseline & No Attacks\r\n",
        "  layer_accs = {key:layer_accs[key] for key in range(2,22)}\r\n",
        "  accs = []\r\n",
        "  for layer_num, acc in layer_accs.items():\r\n",
        "    accs.append((acc-no_att)/baseline)\r\n",
        "  plt.plot(x, accs)\r\n",
        "\r\n",
        "no_att = d_layer_accs[1]\r\n",
        "d_layer_accs = {key:d_layer_accs[key] for key in range(2,22)}\r\n",
        "accs = []\r\n",
        "for layer_num, acc in d_layer_accs.items():\r\n",
        "  accs.append((acc-no_att)/baseline)\r\n",
        "plt.plot(x, accs)\r\n",
        "  \r\n",
        "xmin, xmx = plt.xlim()\r\n",
        "plt.xlabel('Depth of Layer Insertion')\r\n",
        "plt.ylabel('Relative Accuracy Improvement Accuracy')\r\n",
        "plt.title(\"Relative Accuracy Improvement with One Denoising Layer Inserted\")\r\n",
        "plt.xlim(1,21)\r\n",
        "plt.xticks(np.arange(1,22))\r\n",
        "plt.legend(['FGSM eps=0.1','FGSM eps=0.3','FGSM eps=0.5',\\\r\n",
        "            'FGSM eps=1.0','DeepFool'], loc = 'lower right')\r\n",
        "plt.grid()\r\n",
        "plt.savefig(out_dir+'Improvement_single_layer.eps'.format(eps))\r\n",
        "plt.show()"
      ],
      "execution_count": null,
      "outputs": []
    },
    {
      "cell_type": "markdown",
      "metadata": {
        "id": "Ei35CRPXqtod"
      },
      "source": [
        "## Multi Layer Insertion"
      ]
    },
    {
      "cell_type": "code",
      "metadata": {
        "id": "bdSajMtCrIeE"
      },
      "source": [
        "# Load accuracies from results file\n",
        "# first FGSM\n",
        "eps_cnt = 5\n",
        "layer_cnt = 5\n",
        "f_accs_by_eps = {}\n",
        "with open('/content/drive/MyDrive/DeepLearningFinal/results/FGSM_multilayer_accs.txt','r') as file1:\n",
        "  for jj in range(0,eps_cnt):\n",
        "    # iterate over each epsilon\n",
        "    accs = []\n",
        "    layer_acc = {}\n",
        "    for ii in range(0,layer_cnt+2):\n",
        "      line = file1.readline()\n",
        "      if ii == 0:\n",
        "        eps = float(line.split('_')[1])\n",
        "      else:\n",
        "        layer_num = int(line.split(' ')[0])\n",
        "        acc = (float(line.split(' ')[1]))\n",
        "        layer_acc[layer_num] = acc\n",
        "    f_accs_by_eps[eps] = layer_acc\n",
        "\n",
        "# now DeepFool\n",
        "layer_cnt = 5\n",
        "with open('/content/drive/MyDrive/DeepLearningFinal/results/DeepFool_multilayer_accs.txt','r') as file1:\n",
        "  d_layer_accs = {}\n",
        "  for ii in range(0,layer_cnt+1):\n",
        "    line = file1.readline()\n",
        "    layer_num = int(line.split(' ')[0])\n",
        "    acc = (float(line.split(' ')[1]))\n",
        "    d_layer_accs[layer_num] = acc"
      ],
      "execution_count": null,
      "outputs": []
    },
    {
      "cell_type": "code",
      "metadata": {
        "id": "05CHtqshrRBX"
      },
      "source": [
        "out_dir = \"/content/drive/MyDrive/DeepLearningFinal/results/Final Plots/\"\n",
        "plt.figure(figsize = (8,4))\n",
        "x = np.arange(1,6)\n",
        "for eps,layer_accs in f_accs_by_eps.items():\n",
        "  baseline = layer_accs[0]\n",
        "  # remove baseline\n",
        "  layer_accs = {key:layer_accs[key] for key in range(1,6)}\n",
        "  accs = []\n",
        "  for layer_num, acc in layer_accs.items():\n",
        "    accs.append(acc/baseline)\n",
        "  plt.plot(x, accs)\n",
        "\n",
        "baseline = d_layer_accs[0]\n",
        "d_layer_accs = {key:d_layer_accs[key] for key in range(1,6)}\n",
        "accs = []\n",
        "for layer_num, acc in d_layer_accs.items():\n",
        "  accs.append(acc/baseline)\n",
        "plt.plot(x, accs)\n",
        "  \n",
        "xmin, xmx = plt.xlim()\n",
        "plt.xlabel('Depth of Layer Insertion')\n",
        "plt.ylabel('Test Accuracy/Baseline Accuracy')\n",
        "plt.title(\"Test Accuracy/Baseline Accuracy with Increasing Number of Denoising Layers Inserted\")\n",
        "plt.xlim(1,5)\n",
        "plt.xticks(np.arange(1,6))\n",
        "plt.legend(['No Attack', 'FGSM eps=0.1','FGSM eps=0.3','FGSM eps=0.5',\\\n",
        "            'FGSM eps=1.0','DeepFool'], loc = 'lower left')\n",
        "plt.savefig(out_dir+'Combined_multilayer.eps'.format(eps))\n",
        "plt.show()"
      ],
      "execution_count": null,
      "outputs": []
    }
  ]
}