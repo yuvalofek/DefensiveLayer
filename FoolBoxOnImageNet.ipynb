{
  "nbformat": 4,
  "nbformat_minor": 0,
  "metadata": {
    "colab": {
      "name": "FoolBoxOnImageNet.ipynb",
      "provenance": [],
      "collapsed_sections": [],
      "machine_shape": "hm"
    },
    "kernelspec": {
      "name": "python3",
      "display_name": "Python 3"
    },
    "accelerator": "GPU"
  },
  "cells": [
    {
      "cell_type": "markdown",
      "metadata": {
        "id": "Aeid7JpWHcsO"
      },
      "source": [
        "# Imports"
      ]
    },
    {
      "cell_type": "code",
      "metadata": {
        "id": "j_erHL_RmRSd"
      },
      "source": [
        "from google.colab import drive\n",
        "drive.mount('/content/drive')"
      ],
      "execution_count": null,
      "outputs": []
    },
    {
      "cell_type": "code",
      "metadata": {
        "id": "G7tLsC6mu2Ue"
      },
      "source": [
        "!pip install foolbox\n",
        "import os\n",
        "import numpy as np\n",
        "import tensorflow as tf\n",
        "import matplotlib.pyplot as plt\n",
        "# import cleverhans as ch\n",
        "import foolbox as fb\n",
        "import cv2\n",
        "import foolbox.attacks as fatt\n",
        "# from art.attacks.evasion import FastGradientMethod\n",
        "from tensorflow.keras.layers import Input, Dense, Flatten\n",
        "from tensorflow.keras.utils import to_categorical\n",
        "from tensorflow.keras.models import Sequential\n",
        "from tensorflow.keras.applications import VGG19\n",
        "import eagerpy as ep\n",
        "from PIL import Image, ImageOps"
      ],
      "execution_count": null,
      "outputs": []
    },
    {
      "cell_type": "markdown",
      "metadata": {
        "id": "pPeJICymHiid"
      },
      "source": [
        "# Test Adversarial Images on Baseline VGG19"
      ]
    },
    {
      "cell_type": "code",
      "metadata": {
        "id": "UtardYEGvFXH"
      },
      "source": [
        "# Load images from directory into validation set\n",
        "\n",
        "val_ds = tf.keras.preprocessing.image_dataset_from_directory(\n",
        "#  \"/content/drive/MyDrive/DeepLearning/DeepLearningFinal/validation\",\n",
        "  \"/content/drive/MyDrive/DeepLearningFinal/validation\",\n",
        "  validation_split=0.2,\n",
        "  subset=\"validation\",\n",
        "  seed = 123,\n",
        "  shuffle=True,\n",
        "  image_size=(224, 224),\n",
        "  batch_size=1)\n",
        "\n",
        "class_names = val_ds.class_names\n",
        "# print(class_names)"
      ],
      "execution_count": null,
      "outputs": []
    },
    {
      "cell_type": "code",
      "metadata": {
        "id": "-HTslghUzjBL"
      },
      "source": [
        "# Load baseline VGG19 model and convert to foolbox model\n",
        "\n",
        "vgg = tf.keras.applications.VGG19(weights='imagenet')\n",
        "\n",
        "preprocessing = dict()\n",
        "bounds = (0,255)\n",
        "##NEEDS GPU ACTIVATED\n",
        "\n",
        "fmodel = fb.TensorFlowModel(vgg, bounds=bounds, preprocessing=preprocessing)"
      ],
      "execution_count": null,
      "outputs": []
    },
    {
      "cell_type": "code",
      "metadata": {
        "id": "VDt4vXV_zobj"
      },
      "source": [
        "# extract images and labels from validation set and convert human-readable labels\n",
        "# to ImageNet class IDs\n",
        "images, labels = [], []\n",
        "class_ids = {'bikes': 671, 'ships': 510}\n",
        "for img, label in val_ds:\n",
        "  class_id = class_ids[class_names[int(label)]]\n",
        "  if class_id == 671:\n",
        "    labels.append(class_id)\n",
        "    images.append(img)"
      ],
      "execution_count": null,
      "outputs": []
    },
    {
      "cell_type": "code",
      "metadata": {
        "id": "x1VLiso3JGKl"
      },
      "source": [
        "# convert images and labels to tensors\n",
        "\n",
        "images = np.stack(images)\n",
        "images = images.reshape(len(images),224,224,3)\n",
        "images = tf.convert_to_tensor(images)\n",
        "labels = np.stack(labels).reshape(len(images))\n",
        "labels = tf.convert_to_tensor(labels)\n",
        "# fb.utils.accuracy(fmodel, images, labels)"
      ],
      "execution_count": null,
      "outputs": []
    },
    {
      "cell_type": "code",
      "metadata": {
        "id": "8qJem9G7mARz"
      },
      "source": [
        "images = tf.keras.applications.vgg19.preprocess_input(images)"
      ],
      "execution_count": null,
      "outputs": []
    },
    {
      "cell_type": "code",
      "metadata": {
        "id": "ydU2JdxA2acc"
      },
      "source": [
        "# run model on adversarial images\n",
        "attack = fatt.FGSM()\n",
        "epsilons = [\n",
        "        0.0,\n",
        "        0.1,\n",
        "        0.3,\n",
        "        0.5,\n",
        "        1.0,\n",
        "    ]\n",
        "raw, clipped, is_adv = attack(fmodel, images, labels,epsilons=epsilons)\n",
        "robust_accuracy = 1 - np.mean(is_adv,axis=-1)\n",
        "print(\"robust accuracy for perturbations with\")\n",
        "for eps, acc in zip(epsilons, robust_accuracy):\n",
        "    print(f\"  Linf norm ≤ {eps:<6}: {acc.item() * 100:4.1f} %\")"
      ],
      "execution_count": null,
      "outputs": []
    },
    {
      "cell_type": "code",
      "metadata": {
        "id": "yoaFNBrj0Qnz"
      },
      "source": [
        "\n",
        "for eps,image_arr,label in zip(epsilons, raw,labels):\n",
        "  img_cnt = 1\n",
        "  for image in image_arr:\n",
        "    image = image.numpy()\n",
        "    # plt.imshow(image)\n",
        "    save_path = \"/content/drive/MyDrive/DeepLearningFinal/adversarial_images/deepfoolL2/ships_adv_eps_\" +str(eps)+\"/\"+str(img_cnt)+\".jpg\"\n",
        "    # print(save_path)\n",
        "    plt.imsave(save_path,image/255) \n",
        "    img_cnt +=1\n"
      ],
      "execution_count": null,
      "outputs": []
    },
    {
      "cell_type": "code",
      "metadata": {
        "id": "qcWtB40Zl867"
      },
      "source": [
        "img_cnt = 1\n",
        "for image in adv_image:\n",
        "    image = image.numpy()\n",
        "    # plt.imshow(image)\n",
        "    save_path = \"/content/drive/MyDrive/DeepLearningFinal/adversarial_images/CarliniWagner/bikes/\"+str(img_cnt)+\".jpg\"\n",
        "    # print(save_path)\n",
        "    plt.imsave(save_path,image/255) \n",
        "    img_cnt +=1"
      ],
      "execution_count": null,
      "outputs": []
    }
  ]
}